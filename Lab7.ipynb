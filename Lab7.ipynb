{
 "cells": [
  {
   "cell_type": "code",
   "execution_count": 2,
   "id": "colored-terrorism",
   "metadata": {},
   "outputs": [
    {
     "name": "stdout",
     "output_type": "stream",
     "text": [
      "[90, 89, 74, 10, 34, 60, 66, 28, 12, 68]\n",
      "[10, 12, 28, 34, 60, 66, 68, 74, 89, 90]\n",
      "4\n",
      "4\n",
      "4\n",
      "4\n",
      "4\n",
      "4\n",
      "4\n",
      "4\n",
      "4\n",
      "4\n",
      "4\n",
      "11\n",
      "['ST1E89B8A32', 'ST1E89B8A32', 'ST1E89B8A32', 'ST1E89B8A32', 'ST1E89B8A32', 'ST1E89B8A32', 'ST1E89B8A32', 'ST1E89B8A32', 'ST1E89B8A32', 'ST1E89B8A32']\n"
     ]
    }
   ],
   "source": [
    "import random\n",
    "list01 = [random.randint(0,100) for a in range(10)]\n",
    "\n",
    "class keyIndex:\n",
    "    def __init__(self, a):\n",
    "        self.list02=[k for k in a]\n",
    "\n",
    "    def search(self, val):\n",
    "        for a in self.list02:\n",
    "            if a == val:\n",
    "                return True\n",
    "        return False\n",
    "\n",
    "    def sort(self):\n",
    "        for a in range(len(self.list02)-1):\n",
    "            smallest=a\n",
    "            for b in range(a,len(self.list02)):\n",
    "                if self.list02[smallest]>self.list02[b]:\n",
    "                    smallest=b\n",
    "            temp=self.list02[a]\n",
    "            self.list02[a]=self.list02[smallest]\n",
    "            self.list02[smallest]=temp\n",
    "\n",
    "test =keyIndex(list01)\n",
    "print(test.list02)\n",
    "test.sort()\n",
    "print(test.list02)\n",
    "\n",
    "\n",
    "\n",
    "\n",
    "def insertion(hash,hashValue,listHash):\n",
    "    status = True\n",
    "    count = hash\n",
    "    while status:\n",
    "        if listHash[count] == 0:\n",
    "            listHash[count] = hashValue\n",
    "            status = False\n",
    "        count += 1\n",
    "        if count == len(listHash):\n",
    "            count = 0\n",
    "        elif count == hash:\n",
    "            status = False\n",
    "            \n",
    "    \n",
    "def main(arr, listHash):\n",
    "    listExcl = \"AEIOUaeiou\"\n",
    "    count = 0\n",
    "    summation = 0\n",
    "    for a in arr:\n",
    "        try:\n",
    "            summation += int(a)\n",
    "        except:\n",
    "            if a not in listExcl:\n",
    "                count += 1\n",
    "    value = (count*24 + summation)%9\n",
    "    print(value)\n",
    "    insertion(value,arr,listHash)\n",
    "\n",
    "list001=[\"ST1E89B8A32\",\"ST1E89B8A32\",\"ST1E89B8A32\",\"ST1E89B8A32\",\"ST1E89B8A32\",\"ST1E89B8A32\",\"ST1E89B8A32\",\"ST1E89B8A32\",\"ST1E89B8A32\",\"ST1E89B8A32\",\"ST1E89B8A32\"]\n",
    "listHash=[0 for a in range(10)]\n",
    "for a in list001:\n",
    "    main(a,listHash)\n",
    "print(len(list001))\n",
    "print(listHash)"
   ]
  },
  {
   "cell_type": "code",
   "execution_count": null,
   "id": "affected-spokesman",
   "metadata": {},
   "outputs": [],
   "source": []
  }
 ],
 "metadata": {
  "kernelspec": {
   "display_name": "Python 3",
   "language": "python",
   "name": "python3"
  },
  "language_info": {
   "codemirror_mode": {
    "name": "ipython",
    "version": 3
   },
   "file_extension": ".py",
   "mimetype": "text/x-python",
   "name": "python",
   "nbconvert_exporter": "python",
   "pygments_lexer": "ipython3",
   "version": "3.8.5"
  }
 },
 "nbformat": 4,
 "nbformat_minor": 5
}
